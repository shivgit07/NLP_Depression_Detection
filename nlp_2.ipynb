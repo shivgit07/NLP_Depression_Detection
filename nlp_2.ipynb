{
  "cells": [
    {
      "cell_type": "markdown",
      "metadata": {
        "id": "view-in-github",
        "colab_type": "text"
      },
      "source": [
        "<a href=\"https://colab.research.google.com/github/Samar-Agarwal/Detecting-Depression-through-Tweets/blob/main/wids_nlp_2.ipynb\" target=\"_parent\"><img src=\"https://colab.research.google.com/assets/colab-badge.svg\" alt=\"Open In Colab\"/></a>"
      ]
    },
    {
      "cell_type": "code",
      "execution_count": null,
      "metadata": {
        "id": "cOd3RIWsxEUR"
      },
      "outputs": [],
      "source": [
        "import numpy as np\n",
        "import pandas as pd\n",
        "\n",
        "from sklearn.feature_extraction.text import CountVectorizer\n",
        "from keras.preprocessing.text import Tokenizer\n",
        "from keras_preprocessing.sequence import pad_sequences\n",
        "from keras.layers import Dense, Embedding, LSTM\n",
        "from keras.utils.np_utils import to_categorical\n",
        "import re"
      ]
    },
    {
      "cell_type": "code",
      "execution_count": null,
      "metadata": {
        "colab": {
          "base_uri": "https://localhost:8080/"
        },
        "id": "2ewjQ9LmnsqC",
        "outputId": "8bba8e67-979c-4075-c6a3-d09e024c82f7"
      },
      "outputs": [
        {
          "name": "stdout",
          "output_type": "stream",
          "text": [
            "Mounted at /content/drive\n"
          ]
        }
      ],
      "source": [
        "from google.colab import drive\n",
        "drive.mount('/content/drive')"
      ]
    },
    {
      "cell_type": "code",
      "execution_count": null,
      "metadata": {
        "id": "OyQPcR3wnuW4"
      },
      "outputs": [],
      "source": [
        "data =pd.read_csv(\"drive/MyDrive/WIDS_NLP_Project/dataset2.csv\", on_bad_lines = 'skip')\n",
        "# Keeping only the neccessary columns\n",
        "data = data[['Sentiment', 'SentimentText']]"
      ]
    },
    {
      "cell_type": "code",
      "execution_count": null,
      "metadata": {
        "colab": {
          "base_uri": "https://localhost:8080/"
        },
        "id": "eJXwobRfodTH",
        "outputId": "8a64a6c7-1b81-4389-cdf6-095e4131f541"
      },
      "outputs": [
        {
          "name": "stdout",
          "output_type": "stream",
          "text": [
            "1580354\n",
            "1576870\n"
          ]
        }
      ],
      "source": [
        "data['SentimentText'] = data['SentimentText'].apply(lambda x: x.lower()) # lowering all alphabets\n",
        "data['SentimentText'] = data['SentimentText'].apply(lambda x: re.sub('[^a-zA-z0-9\\s]','',x))  #using re module for stooping\n",
        "\n",
        "print(data[ data['Sentiment'] == 1].size)\n",
        "print(data[ data['Sentiment'] == 0].size)"
      ]
    },
    {
      "cell_type": "code",
      "execution_count": null,
      "metadata": {
        "id": "CfinLyxQpYHR"
      },
      "outputs": [],
      "source": [
        "max_fatures = 2000\n",
        "tokenizer = Tokenizer(num_words=max_fatures, split=' ')\n",
        "tokenizer.fit_on_texts(data['SentimentText'].values)\n",
        "X = tokenizer.texts_to_sequences(data['SentimentText'].values)\n",
        "X = pad_sequences(X)"
      ]
    },
    {
      "cell_type": "code",
      "execution_count": null,
      "metadata": {
        "colab": {
          "base_uri": "https://localhost:8080/"
        },
        "id": "kdUxyXs_pUkA",
        "outputId": "54e6717f-a7ee-4168-c877-e305c8f123b1"
      },
      "outputs": [
        {
          "name": "stdout",
          "output_type": "stream",
          "text": [
            "Model: \"sequential\"\n",
            "_________________________________________________________________\n",
            " Layer (type)                Output Shape              Param #   \n",
            "=================================================================\n",
            " embedding (Embedding)       (None, 40, 50)            100000    \n",
            "                                                                 \n",
            " spatial_dropout1d (SpatialD  (None, 40, 50)           0         \n",
            " ropout1D)                                                       \n",
            "                                                                 \n",
            " lstm (LSTM)                 (None, 80)                41920     \n",
            "                                                                 \n",
            " dense (Dense)               (None, 2)                 162       \n",
            "                                                                 \n",
            "=================================================================\n",
            "Total params: 142,082\n",
            "Trainable params: 142,082\n",
            "Non-trainable params: 0\n",
            "_________________________________________________________________\n",
            "None\n"
          ]
        }
      ],
      "source": [
        "from keras.models import Sequential\n",
        "from keras.layers import SpatialDropout1D\n",
        "embed_dim = 50\n",
        "lstm_out = 80\n",
        "model = Sequential()\n",
        "model.add(Embedding(max_fatures, embed_dim,input_length = X.shape[1]))\n",
        "model.add(SpatialDropout1D(0.2))\n",
        "model.add(LSTM(lstm_out, dropout=0.2, recurrent_dropout=0.2))\n",
        "model.add(Dense(2,activation='softmax'))\n",
        "model.compile(loss = 'categorical_crossentropy', optimizer='adam',metrics = ['accuracy'])\n",
        "print(model.summary())"
      ]
    },
    {
      "cell_type": "code",
      "execution_count": null,
      "metadata": {
        "id": "9XGb0rspkeA8"
      },
      "outputs": [],
      "source": [
        "data.head()\n",
        "from sklearn.model_selection import train_test_split"
      ]
    },
    {
      "cell_type": "code",
      "execution_count": null,
      "metadata": {
        "colab": {
          "base_uri": "https://localhost:8080/"
        },
        "id": "4sn9-XbikaRO",
        "outputId": "2e4b2916-11a5-4744-f575-53e1e39a01c4"
      },
      "outputs": [
        {
          "name": "stdout",
          "output_type": "stream",
          "text": [
            "(1105028, 40) (1105028, 2)\n",
            "(473584, 40) (473584, 2)\n"
          ]
        }
      ],
      "source": [
        "Y = pd.get_dummies(data['Sentiment']).values\n",
        "X_train, X_test, Y_train, Y_test = train_test_split(X,Y, test_size = 0.3, random_state = 42)\n",
        "print(X_train.shape,Y_train.shape)\n",
        "print(X_test.shape,Y_test.shape)"
      ]
    },
    {
      "cell_type": "code",
      "execution_count": null,
      "metadata": {
        "colab": {
          "base_uri": "https://localhost:8080/"
        },
        "id": "_0JdEGDelLoj",
        "outputId": "6a2ccbc5-370d-489d-9594-e082fa915af8"
      },
      "outputs": [
        {
          "output_type": "stream",
          "name": "stdout",
          "text": [
            "34533/34533 - 2349s - loss: 0.4276 - accuracy: 0.8010 - 2349s/epoch - 68ms/step\n"
          ]
        },
        {
          "output_type": "execute_result",
          "data": {
            "text/plain": [
              "<keras.callbacks.History at 0x7fe781823d60>"
            ]
          },
          "metadata": {},
          "execution_count": 15
        }
      ],
      "source": [
        "batch_size = 32\n",
        "epochs = 1\n",
        "model.fit(X_train, Y_train, batch_size = batch_size, epochs = epochs, verbose=2)"
      ]
    },
    {
      "cell_type": "code",
      "source": [
        "model.metrics_names\n"
      ],
      "metadata": {
        "colab": {
          "base_uri": "https://localhost:8080/"
        },
        "id": "5jSW33mq8UHR",
        "outputId": "34b69d3a-ec63-4e75-c6bc-6e2925311f46"
      },
      "execution_count": null,
      "outputs": [
        {
          "output_type": "execute_result",
          "data": {
            "text/plain": [
              "['loss', 'accuracy']"
            ]
          },
          "metadata": {},
          "execution_count": 17
        }
      ]
    },
    {
      "cell_type": "code",
      "source": [
        "score,acc = model.evaluate(X_test, Y_test, verbose = 2, batch_size = batch_size)\n",
        "print(\"score: %.2f\" % (score))\n",
        "print(\"acc: %.2f\" % (acc))"
      ],
      "metadata": {
        "colab": {
          "base_uri": "https://localhost:8080/"
        },
        "id": "jhnBN3dV9fsn",
        "outputId": "3969979f-9c83-4416-a725-281d7cd439b8"
      },
      "execution_count": null,
      "outputs": [
        {
          "output_type": "stream",
          "name": "stdout",
          "text": [
            "14800/14800 - 156s - loss: 0.4203 - accuracy: 0.8048 - 156s/epoch - 11ms/step\n",
            "score: 0.42\n",
            "acc: 0.80\n"
          ]
        }
      ]
    }
  ],
  "metadata": {
    "colab": {
      "provenance": [],
      "authorship_tag": "ABX9TyPusya4EOV4ERdn2rOlYXbB",
      "include_colab_link": true
    },
    "kernelspec": {
      "display_name": "Python 3",
      "name": "python3"
    },
    "language_info": {
      "name": "python"
    }
  },
  "nbformat": 4,
  "nbformat_minor": 0
}